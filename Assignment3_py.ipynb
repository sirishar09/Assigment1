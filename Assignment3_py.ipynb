{
  "nbformat": 4,
  "nbformat_minor": 0,
  "metadata": {
    "colab": {
      "name": "Assignment3.py",
      "provenance": [],
      "authorship_tag": "ABX9TyOcEyoPexbdOlSP3M/iYqbw",
      "include_colab_link": true
    },
    "kernelspec": {
      "name": "python3",
      "display_name": "Python 3"
    },
    "language_info": {
      "name": "python"
    }
  },
  "cells": [
    {
      "cell_type": "markdown",
      "metadata": {
        "id": "view-in-github",
        "colab_type": "text"
      },
      "source": [
        "<a href=\"https://colab.research.google.com/github/sirishar09/Assigment1/blob/main/Assignment3_py.ipynb\" target=\"_parent\"><img src=\"https://colab.research.google.com/assets/colab-badge.svg\" alt=\"Open In Colab\"/></a>"
      ]
    },
    {
      "cell_type": "code",
      "metadata": {
        "colab": {
          "base_uri": "https://localhost:8080/"
        },
        "id": "VMKcfaIFZyoI",
        "outputId": "ebfa9045-7cfd-465f-a2e1-1047ab270a41"
      },
      "source": [
        "\n",
        "print(\"Welcome to Airway\\n\")\n",
        "\n",
        "print(\"Hello pilot,please give the flight details.\")\n",
        "curht=int(input(\"What is the current height of the flight in air:\"))\n",
        "height=1000\n",
        "print(\"Since,the Present height of the flight is \"+str(curht)+\".Pilot,we request you to\")\n",
        "if(curht<=height):\n",
        "    print(\"Safe to land.\")\n",
        "elif (curht>height and curht<5000):\n",
        "     print(\"Bring down to 1000ft.\") \n",
        "else:\n",
        "    print(\"Turn around and try later.\")\n",
        "\n",
        "print(\"Thank you...\")"
      ],
      "execution_count": 1,
      "outputs": [
        {
          "output_type": "stream",
          "text": [
            "Welcome to Airway\n",
            "\n",
            "Hello pilot,please give the flight details.\n",
            "What is the current height of the flight in air:1500\n",
            "Since,the Present height of the flight is 1500.Pilot,we request you to\n",
            "Bring down to 1000ft.\n",
            "Thank you...\n"
          ],
          "name": "stdout"
        }
      ]
    }
  ]
}